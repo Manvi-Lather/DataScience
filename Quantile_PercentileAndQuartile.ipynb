{
 "cells": [
  {
   "cell_type": "code",
   "execution_count": 5,
   "metadata": {},
   "outputs": [],
   "source": [
    "import pandas as pd \n",
    "import numpy as np \n",
    "import random\n",
    "\n"
   ]
  },
  {
   "cell_type": "markdown",
   "metadata": {},
   "source": [
    "Quantiles:\n",
    "\n",
    "\n",
    "Quantiles divide your dataset into equal parts, and the term \"quantile\" is a general term that refers to any division of your data. Percentiles are a type of quantile where the division is based on percentages.\n",
    "\n",
    "\n",
    "Also, Quartiles are a specific type of quantile that divide your dataset into four equal parts."
   ]
  },
  {
   "cell_type": "markdown",
   "metadata": {},
   "source": [
    "A Percentile is a value below which a certain percentage of observations lie."
   ]
  },
  {
   "cell_type": "markdown",
   "metadata": {},
   "source": [
    "If you have the GRE scores of 10 students and you calculate percentiles, quantiles, and quartiles, the results will provide you with valuable insights into the distribution of the scores and how each student's score compares to others. \n",
    "\n",
    "Percentiles:\n",
    "Percentiles provide you with information about the relative position of a student's score within the dataset. For example, if a student's score is at the 75th percentile, it means their score is higher than 75% of the scores in the dataset. \n",
    "\n",
    "\n",
    "In other words, a Percentile is a value below which a certain percentage of observations lie.\n"
   ]
  },
  {
   "cell_type": "markdown",
   "metadata": {},
   "source": [
    "As already discussed, percentiles are a type of quantile where the division is based on percentages.\n",
    "\n",
    "Cossider this dataset: \n",
    "\n",
    "sorted_scores = [65, 70, 72, 75, 78, 80, 82, 85, 88, 90, 92, 95, 98, 100, 102, 105, 108, 110, 112, 115,120]\n",
    "\n",
    "In this example, if you want to find the score at the 25th percentile, it means 25% of the data falls below that score. Similarly, the score at the 50th percentile is the median, and the score at the 75th percentile means 75% of the data falls below that score.\n",
    "\n",
    "\n",
    "\n",
    "\n",
    "formula : \n",
    "\n",
    "\n",
    "calculate percentile = (Position of value in sorted list/total no of observations) * 100\n",
    "\n",
    "\n"
   ]
  },
  {
   "cell_type": "markdown",
   "metadata": {},
   "source": [
    "Step-by-Step Calculation:\n",
    "\n",
    "Q1 (First Quartile):\n",
    "\n",
    "\n",
    "\n",
    "The position for Q1 is (25 / 100) * (21 + 1) = 5.25, which rounds up to position 6.\n",
    "The sixth value in the sorted dataset is 80, which is the value of Q1.\n",
    "Q2 (Second Quartile, Median):\n",
    "\n",
    "\n",
    "\n",
    "For an odd number of data points, the median is simply the middle value.\n",
    "In this case, the middle value is the eleventh value, which is 92.\n",
    "Q3 (Third Quartile):\n",
    "\n",
    "The position for Q3 is (75 / 100) * (21 + 1) = 15.75, which rounds up to position 16.\n",
    "The sixteenth value in the sorted dataset is 105, which is the value of Q3.\n",
    "So, for the dataset [65, 70, 72, 75, 78, 80, 82, 85, 88, 90, 92, 95, 98, 100, 102, 105, 108, 110, 112, 115, 120], the quartiles are:\n",
    "\n",
    "\n",
    "\n",
    "Q1: 80\n",
    "Q2 (Median): 92\n",
    "Q3: 105\n",
    "These quartile values help you understand the spread and distribution of the data points in the dataset."
   ]
  },
  {
   "cell_type": "code",
   "execution_count": 70,
   "metadata": {},
   "outputs": [
    {
     "name": "stdout",
     "output_type": "stream",
     "text": [
      "[65, 70, 72, 75, 78, 80, 82, 85, 88, 90, 92, 95, 98, 100, 102, 105, 108, 110, 112, 115, 120]\n",
      "Sorted GRE Scores: [65, 70, 72, 75, 78, 80, 82, 85, 88, 90, 92, 95, 98, 100, 102, 105, 108, 110, 112, 115, 120]\n",
      "\n",
      "\n",
      "Percentiles: [(10, 72.0), (25, 80.0), (50, 92.0), (75, 105.0), (90, 112.0)]\n",
      "\n",
      "\n",
      "Q1 (First Quartile): 80.0\n",
      "Q2 (Median): 92.0\n",
      "Q3 (Third Quartile): 105.0\n"
     ]
    }
   ],
   "source": [
    "import numpy as np\n",
    "\n",
    "# Step 1: Generate Fake GRE Scores for 10 Students\n",
    "# np.random.seed(42)  # For reproducibility\n",
    "# gre_scores = np.random.randint(300, 340, size=10)  # Generate scores between 300 and 340\n",
    "\n",
    "# Step 2: Sort the Scores\n",
    "sorted_scores = [65, 70, 72, 75, 78, 80, 82, 85, 88, 90, 92, 95, 98, 100, 102, 105, 108, 110, 112, 115,120]\n",
    "\n",
    "print(sorted_scores)\n",
    "\n",
    "# Step 3: Calculate Percentiles\n",
    "percentiles = [10, 25, 50, 75, 90]\n",
    "percentile_values = np.percentile(sorted_scores, percentiles)\n",
    "\n",
    "# Step 4: Calculate Quantiles (Quartiles)\n",
    "q1 = np.percentile(sorted_scores, 25)\n",
    "q2 = np.percentile(sorted_scores, 50)\n",
    "q3 = np.percentile(sorted_scores, 75)\n",
    "\n",
    "# Step 5: Print Results\n",
    "\n",
    "print(\"Sorted GRE Scores:\", sorted_scores)\n",
    "print('\\n')\n",
    "print(\"Percentiles:\", list(zip(percentiles, percentile_values)))\n",
    "print('\\n')\n",
    "print(\"Q1 (First Quartile):\", q1)\n",
    "print(\"Q2 (Median):\", q2)\n",
    "print(\"Q3 (Third Quartile):\", q3)\n"
   ]
  },
  {
   "cell_type": "markdown",
   "metadata": {},
   "source": [
    "The percentiles represent the values that divide your dataset into specific percentages. For example:\n",
    "At the 10th percentile, 10% of the students mark falls below or is equal to the value of 72.0.\n",
    "At the 25th percentile, 25% of the students mark falls  below or is equal to the value of 80.0.\n",
    "At the 50th percentile (median), 50% of the students mark falls below or is equal to the value of 92.0.\n",
    "At the 75th percentile, 75% of the students mark falls below or is equal to the value of 105.0.\n",
    "At the 90th percentile, 90% of the students mark falls below or is equal to the value of 112.0."
   ]
  },
  {
   "cell_type": "code",
   "execution_count": null,
   "metadata": {},
   "outputs": [],
   "source": [
    "Quartiles:\n",
    "\n",
    "The quartiles are specific percentiles that divide your dataset into four equal parts.\n",
    "Q1 (First Quartile): 25% of the data falls below or is equal to the value of 80.0.\n",
    "Q2 (Second Quartile, Median): 50% of the data falls below or is equal to the value of 92.0.\n",
    "Q3 (Third Quartile): 75% of the data falls below or is equal to the value of 105.0."
   ]
  },
  {
   "cell_type": "markdown",
   "metadata": {},
   "source": [
    "In summary, these values provide insights into the distribution of your data. For instance, you can say that 50% of the scores are below 92.0, and 25% of the scores are below 80.0. The quartiles help you understand how the data is spread across different ranges. Percentiles and quartiles are often used in statistics to describe the central tendency and variability of a dataset"
   ]
  }
 ],
 "metadata": {
  "kernelspec": {
   "display_name": "Python 3",
   "language": "python",
   "name": "python3"
  },
  "language_info": {
   "codemirror_mode": {
    "name": "ipython",
    "version": 3
   },
   "file_extension": ".py",
   "mimetype": "text/x-python",
   "name": "python",
   "nbconvert_exporter": "python",
   "pygments_lexer": "ipython3",
   "version": "3.11.1"
  },
  "orig_nbformat": 4
 },
 "nbformat": 4,
 "nbformat_minor": 2
}
