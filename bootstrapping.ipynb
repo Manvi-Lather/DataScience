{
 "cells": [
  {
   "cell_type": "markdown",
   "metadata": {},
   "source": [
    "Imagine you're curious about the average weight of people in your expansive office. To determine the average weight, you could directly measure each person's weight, but given the size of the office, this might be quite an undertaking. However, understanding the average weight of your colleagues could offer valuable insights. Here's how you could apply bootstrapping to this scenario:\n",
    "\n",
    "You work for a substantial technology company with 1,000 employees in the building and 200 on your floor. Instead of surveying everyone, which could be time-consuming, you decide to use bootstrapping to estimate the average weight.\n",
    "\n",
    "You start by conducting a survey on the first day where you measure the weights of 50 randomly selected individuals without replacement. These weights form your initial dataset."
   ]
  },
  {
   "cell_type": "code",
   "execution_count": null,
   "metadata": {},
   "outputs": [],
   "source": [
    "import random\n",
    "import numpy as np\n",
    "\n",
    "# Set a seed value for reproducibility\n",
    "random.seed(42)  # You can use any integer value as the seed\n",
    "\n",
    "\n",
    "# Simulated list of weights of 50 people in kg in office \n",
    "weights_kg = [random.uniform(50, 100) for wt in range(50)]\n",
    "\n",
    "print(\"List of Weights (kg):\", weights_kg)\n",
    "\n"
   ]
  },
  {
   "cell_type": "markdown",
   "metadata": {},
   "source": [
    "However, instead of performing this survey repeatedly, you decide to leverage these 50 data points to generate multiple bootstrapped samples.\n",
    "\n",
    "Each \"bag\" of bootstrapped samples consists of 50 randomly chosen weights from your initial dataset, and these samples are drawn with replacement. This means that some weights might be selected multiple times in a single bag, while others might not be selected at all. For each of these bootstrapped bags, you calculate the mean weight of the individuals.\n",
    "\n",
    "bag1 (50 samples with replacement)\n",
    "bag2 (50 samples with replacement)\n",
    "bag3 (50 samples with replacement)\n",
    ".\n",
    ".\n",
    "bag100 (50 samples with replacement)\n",
    "\n",
    "\n",
    "\n",
    "After performing this procedure 100 times, you end up with 100 different estimates for the average weight of your colleagues.\n",
    "\n",
    "bag1 (50 samples with-replacement)--> Avg1\n",
    "bag2 (50 samples with-replacement)--> Avg2\n",
    ".\n",
    ".\n",
    ".\n",
    "bag100 (50 samples with-replacement)--> Avg100\n",
    "\n",
    "\n",
    "These estimates offer a range of possible values. By analyzing these values, you can calculate confidence intervals. For instance, you might conclude, \"With 95% confidence, the average weight of people in this company is between 140 and 160 pounds.\""
   ]
  },
  {
   "cell_type": "code",
   "execution_count": null,
   "metadata": {},
   "outputs": [],
   "source": [
    "\n",
    "# Number of bootstrap samples\n",
    "num_bootstraps = 100  #100 bags will be created with replacement from the original sample(weights_kg)\n",
    "\n",
    "# Initialize an empty list to store bootstrapped sample means\n",
    "bootstrap_sample_means = []\n",
    "\n",
    "# Perform bootstrapping\n",
    "#100 bags will be created with replacement from the original sample(weights_kg)\n",
    "for wt in range(num_bootstraps): \n",
    "    bootstrap_sample = [random.choice(weights_kg) for wt in range(len(weights_kg))] #randomly select 50 weights from the original sample with replacement\n",
    "    bootstrap_mean = np.mean(bootstrap_sample) #calculate the mean of the 50 weights\n",
    "    bootstrap_sample_means.append(bootstrap_mean) #append the mean to the list of means\n",
    "\n",
    "# Calculate the 95% confidence interval\n",
    "confidence_interval = np.percentile(bootstrap_sample_means, [2.5, 97.5])\n",
    "\n",
    "print(\"Bootstrap Estimates of Mean Weight:\", bootstrap_sample_means)\n",
    "print(\"95% Confidence Interval:\", confidence_interval)"
   ]
  },
  {
   "cell_type": "markdown",
   "metadata": {},
   "source": [
    "In this context, bootstrapping helps you estimate the average weight of your colleagues in a way that's more feasible than measuring everyone individually. It provides a method to make informed conclusions about a population based on a sample, even when collecting data from the entire population might be impractical"
   ]
  },
  {
   "cell_type": "code",
   "execution_count": 25,
   "metadata": {},
   "outputs": [
    {
     "name": "stdout",
     "output_type": "stream",
     "text": [
      "List of Weights (kg): [81.97133992289419, 51.250537761133344, 63.75146591845596, 61.16053690744114, 86.82356070820062, 83.83497437114556, 94.60897838524227, 54.346941631470806, 71.09609098426353, 51.48986097190352, 60.931898740180166, 75.26776440516812, 51.32679848419318, 59.94188253433242, 82.49422188897617, 77.24707403016083, 61.02203110203483, 79.46328419379543, 90.47152283389133, 50.32493798390305, 90.2909625916404, 84.90696974941135, 67.01252582589959, 57.773974990589075, 97.86065361033906, 66.82972725563134, 54.637292169007395, 54.8358188416732, 92.37471831737298, 80.18630156834456, 90.35641366371901, 86.4865893346909, 76.81140457273503, 98.65578819896854, 68.92671886041768, 77.60203156366134, 91.47023321264975, 80.9259876182123, 93.08534501553886, 78.8676072628381, 85.22859181074617, 52.29121918278311, 61.39491378257734, 64.46939818010536, 53.98959884618137, 61.639544318051506, 55.05007147048646, 63.89868015550461, 81.78422221322, 68.24160894850421]\n",
      "Bootstrap Estimates of Mean Weight: [71.34338618099764, 71.72156714796897, 73.83353617424922, 73.64455661097718, 71.63218088989036, 72.9584066598078, 73.94575406281864, 70.74544924281777, 68.03097091492181, 69.85782906870055, 70.96397020053224, 72.30577078603686, 76.57360565100208, 72.72734065107285, 70.53108970769117, 70.12102117405618, 75.27776688744375, 70.52313490938242, 77.17999545447813, 73.90844618027816, 71.73066168822194, 76.59793438192433, 71.68066329490725, 75.74981743539607, 74.41488692246321, 74.37629079296195, 74.87979330747662, 71.320883569982, 71.16269017028732, 68.3939305207849, 72.91303727172699, 74.07391188683877, 71.49719109321998, 71.59119434850571, 72.08240961607387, 71.01003022471077, 73.15833859960027, 77.65196318573254, 75.20086404629048, 69.50506797637519, 72.47080122627231, 74.29210585295597, 72.48392534807452, 72.65643205018274, 73.08656462592927, 70.77138100951339, 73.52944654760022, 72.99717139157235, 70.81689838660826, 72.79313127715541, 73.87025615084298, 74.02926271745048, 71.42004029195579, 70.20222246585719, 71.99647518749865, 73.16552793770458, 74.5499545160836, 70.70867206352425, 75.60642785078207, 69.30190218636119, 70.62928751286671, 73.32868895997588, 70.31696031434419, 72.67257267660769, 71.14197736506077, 72.00208380063242, 75.24837275175894, 76.17969170177153, 78.39242653969649, 73.63488017810135, 73.24742765373495, 72.01843018810224, 72.29213904182622, 74.0121834303703, 72.76721426170633, 73.02406893005747, 71.6218023593033, 73.64656958505302, 69.88371169800419, 75.40426683933562, 72.83460795444698, 74.08354771009128, 68.33974954047854, 72.1644696609536, 72.87525451278945, 72.33327504175776, 71.82986961535862, 70.64991112326196, 73.46745067259, 74.9850634638282, 71.86529266135116, 74.98546650847234, 75.93015418578639, 70.05645910088003, 74.11097941320081, 74.57079977499694, 72.1711834678345, 69.954655741593, 70.78647063408765, 72.94663491754244]\n",
      "95% Confidence Interval: [68.82521706 76.90351645]\n"
     ]
    }
   ],
   "source": [
    "# another way to write the same code : \n",
    "\n",
    "\n",
    "import random\n",
    "import numpy as np\n",
    "\n",
    "# Set a seed value for reproducibility\n",
    "random.seed(42)  # You can use any integer value as the seed\n",
    "\n",
    "\n",
    "# Simulated list of weights of 50 people in kg in office \n",
    "weights_kg = [random.uniform(50, 100) for wt in range(50)]\n",
    "\n",
    "print(\"List of Weights (kg):\", weights_kg)\n",
    "\n",
    "# Number of bootstrap samples\n",
    "num_bootstraps = 100  #100 bags will be created with replacement from the original sample(weights_kg)\n",
    "\n",
    "# Initialize an empty list to store bootstrapped sample means\n",
    "bootstrap_sample_means = []\n",
    "\n",
    "# Perform bootstrapping\n",
    "for _ in range(num_bootstraps):\n",
    "    bootstrap_sample = []  # Initialize an empty list for the bootstrapped sample\n",
    "    for _ in range(len(weights_kg)):\n",
    "        random_weight = random.choice(weights_kg)  # Randomly choose a weight from the original list\n",
    "        bootstrap_sample.append(random_weight)  # Add the chosen weight to the bootstrapped sample\n",
    "    \n",
    "    bootstrap_mean = np.mean(bootstrap_sample)  # Calculate the mean of the bootstrapped sample\n",
    "    bootstrap_sample_means.append(bootstrap_mean)  # Store the mean in the list of bootstrapped means\n",
    "\n",
    "\n",
    "# Calculate the 95% confidence interval\n",
    "confidence_interval = np.percentile(bootstrap_sample_means, [2.5, 97.5])\n",
    "\n",
    "print(\"Bootstrap Estimates of Mean Weight:\", bootstrap_sample_means)\n",
    "print(\"95% Confidence Interval:\", confidence_interval)\n"
   ]
  }
 ],
 "metadata": {
  "kernelspec": {
   "display_name": "Python 3",
   "language": "python",
   "name": "python3"
  },
  "language_info": {
   "codemirror_mode": {
    "name": "ipython",
    "version": 3
   },
   "file_extension": ".py",
   "mimetype": "text/x-python",
   "name": "python",
   "nbconvert_exporter": "python",
   "pygments_lexer": "ipython3",
   "version": "3.11.1"
  },
  "orig_nbformat": 4
 },
 "nbformat": 4,
 "nbformat_minor": 2
}
